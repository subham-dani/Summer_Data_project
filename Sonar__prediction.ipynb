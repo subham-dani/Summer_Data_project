{
  "nbformat": 4,
  "nbformat_minor": 0,
  "metadata": {
    "colab": {
      "name": "Sonar _prediction.ipynb",
      "provenance": [],
      "collapsed_sections": []
    },
    "kernelspec": {
      "name": "python3",
      "display_name": "Python 3"
    },
    "language_info": {
      "name": "python"
    }
  },
  "cells": [
    {
      "cell_type": "code",
      "execution_count": null,
      "metadata": {
        "id": "nI40CXRMn0dZ"
      },
      "outputs": [],
      "source": [
        "import pandas as pd\n",
        "import numpy as np\n",
        "from sklearn.linear_model import LogisticRegression\n",
        "from sklearn.model_selection import train_test_split\n",
        "from sklearn.metrics import accuracy_score,confusion_matrix\n"
      ]
    },
    {
      "cell_type": "code",
      "source": [
        "sonar_data = pd.read_csv('/content/summer-ML/sonar.csv',header=None)\n",
        "sonar_data.head()"
      ],
      "metadata": {
        "id": "EmG3FdokqNK8"
      },
      "execution_count": null,
      "outputs": []
    },
    {
      "cell_type": "code",
      "source": [
        "sonar_data.shape"
      ],
      "metadata": {
        "id": "1ndxidAorop1"
      },
      "execution_count": null,
      "outputs": []
    },
    {
      "cell_type": "code",
      "source": [
        "sonar_data.describe()\n"
      ],
      "metadata": {
        "id": "jIHgEY99qwjG"
      },
      "execution_count": null,
      "outputs": []
    },
    {
      "cell_type": "code",
      "source": [
        "sonar_data[60].value_counts()"
      ],
      "metadata": {
        "id": "6i9cjJSOrvFy"
      },
      "execution_count": null,
      "outputs": []
    },
    {
      "cell_type": "code",
      "source": [
        "X = sonar_data.drop(columns=60, axis =1)\n",
        "Y = sonar_data[60] "
      ],
      "metadata": {
        "id": "nwkzx4mHtqNf"
      },
      "execution_count": null,
      "outputs": []
    },
    {
      "cell_type": "code",
      "source": [
        "x_train,x_test,y_train,y_test = train_test_split(X, Y, test_size = 0.1, stratify=Y, random_state=1)"
      ],
      "metadata": {
        "id": "Vh1eJ57Huad1"
      },
      "execution_count": null,
      "outputs": []
    },
    {
      "cell_type": "code",
      "source": [
        "model = LogisticRegression()\n",
        "model.fit(x_train,y_train)\n"
      ],
      "metadata": {
        "id": "yFinLN7fvoiq"
      },
      "execution_count": null,
      "outputs": []
    },
    {
      "cell_type": "code",
      "source": [
        "yp = model.predict(x_train)\n",
        "accuracy = accuracy_score(y_train,yp)\n",
        "con = confusion_matrix(y_train,yp)\n",
        "print(accuracy,con)"
      ],
      "metadata": {
        "colab": {
          "base_uri": "https://localhost:8080/"
        },
        "id": "WUCV6gtrx7Wa",
        "outputId": "722f7a1e-000f-41ff-f7b1-3715b7c557f5"
      },
      "execution_count": null,
      "outputs": [
        {
          "output_type": "stream",
          "name": "stdout",
          "text": [
            "0.8342245989304813 [[86 14]\n",
            " [17 70]]\n"
          ]
        }
      ]
    },
    {
      "cell_type": "code",
      "source": [
        "input = [0.0298,0.0615,0.065,0.0921,0.1615,0.2294,0.2176,0.2033,0.1459,0.0852,0.2476,0.3645,0.277,0.2826,0.3237,0.4335,0.5638,0.4555,0.4348,0.6433,0.3932,\t0.1989,\t0.354\t,0.9165,\t0.9371,\t0.462,\t0.2771,\t0.6613,\t0.8028,\t0.42,\t0.5192\t,0.6962,\t0.5792,\t0.8889\t,0.7863,\t0.7133\t,0.7615,\t0.4401,\t0.3009,\t0.3163\t,0.2809\t,0.2898,\t0.0526,\t0.1867,\t0.1553,\t0.1633\t,0.1252,\t0.0748,\t0.0452,\t0.0064,\t0.0154\t,0.0031,\t0.0153\t,0.0071\t,0.0212,\t0.0076,\t0.0152\t,0.0049\t,0.02,\t0.0073]\n",
        "\n",
        "input_ar = np.array(input)\n",
        "\n",
        "input_resp=input_ar.reshape(1,-1)\n",
        "\n",
        "pre = model.predict(input_resp)\n",
        "\n",
        "print(pre)"
      ],
      "metadata": {
        "colab": {
          "base_uri": "https://localhost:8080/"
        },
        "id": "CEV-04R30CWQ",
        "outputId": "5b97b93f-d37c-420f-cb46-0f0f70da7d6d"
      },
      "execution_count": null,
      "outputs": [
        {
          "output_type": "stream",
          "name": "stdout",
          "text": [
            "['R']\n"
          ]
        }
      ]
    }
  ]
}