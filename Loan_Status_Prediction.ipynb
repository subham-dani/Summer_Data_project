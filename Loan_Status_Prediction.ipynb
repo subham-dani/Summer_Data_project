{
  "nbformat": 4,
  "nbformat_minor": 0,
  "metadata": {
    "colab": {
      "name": "Loan-Status_Prediction.ipynb",
      "provenance": []
    },
    "kernelspec": {
      "name": "python3",
      "display_name": "Python 3"
    },
    "language_info": {
      "name": "python"
    }
  },
  "cells": [
    {
      "cell_type": "code",
      "execution_count": null,
      "metadata": {
        "id": "pvww0qtuFQY6"
      },
      "outputs": [],
      "source": [
        "import numpy as np\n",
        "import pandas as pd\n",
        "from sklearn.model_selection import train_test_split\n",
        "from sklearn.metrics import accuracy_score\n",
        "from sklearn import svm\n",
        "import seaborn as sns"
      ]
    },
    {
      "cell_type": "code",
      "source": [
        "loan_data = pd.read_csv('/content/sample_data/Loan-Status.csv')\n",
        "loan_data.shape"
      ],
      "metadata": {
        "colab": {
          "base_uri": "https://localhost:8080/"
        },
        "id": "qPLAXkqKLTsm",
        "outputId": "54fa37af-1d18-403c-ba27-a33e1d791464"
      },
      "execution_count": null,
      "outputs": [
        {
          "output_type": "execute_result",
          "data": {
            "text/plain": [
              "(614, 13)"
            ]
          },
          "metadata": {},
          "execution_count": 6
        }
      ]
    },
    {
      "cell_type": "code",
      "source": [
        "loan_data.isnull().sum()"
      ],
      "metadata": {
        "id": "cUXv7R__NmwI"
      },
      "execution_count": null,
      "outputs": []
    },
    {
      "cell_type": "code",
      "source": [
        "loan_data = loan_data.dropna()"
      ],
      "metadata": {
        "id": "A6Q-M_DoOBdR"
      },
      "execution_count": null,
      "outputs": []
    },
    {
      "cell_type": "code",
      "source": [
        "loan_data = loan_data.replace({'Y':1,'N': 0,'3+':4})\n",
        "loan_data.head()"
      ],
      "metadata": {
        "id": "HvVVcVMdOJdo"
      },
      "execution_count": null,
      "outputs": []
    },
    {
      "cell_type": "code",
      "source": [
        "loan_data['Dependents'].value_counts()"
      ],
      "metadata": {
        "id": "9gfWfCqAPhVh"
      },
      "execution_count": null,
      "outputs": []
    },
    {
      "cell_type": "code",
      "source": [
        "sns.countplot(x='Education',hue='Loan_Status',data = loan_data)"
      ],
      "metadata": {
        "id": "8xcRqkOzQU4T"
      },
      "execution_count": null,
      "outputs": []
    },
    {
      "cell_type": "code",
      "source": [
        "sns.countplot(x='Gender',hue='Loan_Status',data = loan_data)"
      ],
      "metadata": {
        "id": "BYHzLDyrPjrZ"
      },
      "execution_count": null,
      "outputs": []
    },
    {
      "cell_type": "code",
      "source": [
        "sns.countplot(x='Married',hue='Loan_Status',data = loan_data)"
      ],
      "metadata": {
        "id": "7BLqGq4GR5AR"
      },
      "execution_count": null,
      "outputs": []
    },
    {
      "cell_type": "code",
      "source": [
        "loan_data = loan_data.replace({'Yes':1,'No':0})\n",
        "loan_data = loan_data.replace({'Male':1,'Female':0,'Urban':2})\n",
        "loan_data = loan_data.replace({'Semiurban':1,'Rural':0})\n",
        "loan_data = loan_data.replace({'Graduate':1,'Not Graduate':0})\n",
        "loan_data.head()"
      ],
      "metadata": {
        "id": "Bog-jVTRR91e"
      },
      "execution_count": null,
      "outputs": []
    },
    {
      "cell_type": "code",
      "source": [
        "X = loan_data.drop(columns = ['Loan_ID','Loan_Status'],axis=1)\n",
        "Y = loan_data['Loan_Status']"
      ],
      "metadata": {
        "id": "zOQ6qXDGW1E3"
      },
      "execution_count": null,
      "outputs": []
    },
    {
      "cell_type": "code",
      "source": [
        "x_train,x_test,y_train,y_test = train_test_split(X,Y,test_size=0.1,stratify=Y,random_state=2)"
      ],
      "metadata": {
        "id": "Na8gIlT3YDYv"
      },
      "execution_count": null,
      "outputs": []
    },
    {
      "cell_type": "code",
      "source": [
        "model = svm.SVC(kernel='linear')"
      ],
      "metadata": {
        "id": "iEQxPHNjYcpu"
      },
      "execution_count": null,
      "outputs": []
    },
    {
      "cell_type": "code",
      "source": [
        "model.fit(x_train,y_train)"
      ],
      "metadata": {
        "colab": {
          "base_uri": "https://localhost:8080/"
        },
        "id": "LCf0fcZYYvgB",
        "outputId": "debd2dda-1b60-4f6d-a206-7e6e93cb5ba3"
      },
      "execution_count": null,
      "outputs": [
        {
          "output_type": "execute_result",
          "data": {
            "text/plain": [
              "SVC(kernel='linear')"
            ]
          },
          "metadata": {},
          "execution_count": 36
        }
      ]
    },
    {
      "cell_type": "code",
      "source": [
        "ypre_1 = model.predict(x_train)\n",
        "ypre_2 = model.predict(x_test)\n",
        "accr_1 = accuracy_score(y_train,ypre_1)\n",
        "accr_2 = accuracy_score(y_test,ypre_2)\n",
        "print(accr_1, accr_2)"
      ],
      "metadata": {
        "colab": {
          "base_uri": "https://localhost:8080/"
        },
        "id": "8TGb5Q7xZSsi",
        "outputId": "8ffc07aa-177e-452d-d45e-a88f8fc63dda"
      },
      "execution_count": null,
      "outputs": [
        {
          "output_type": "stream",
          "name": "stdout",
          "text": [
            "0.7986111111111112 0.8333333333333334\n"
          ]
        }
      ]
    },
    {
      "cell_type": "code",
      "source": [
        "X_trial =np.array(x_test)\n",
        "pred = model.predict(X_trial[4].reshape(1,-1))\n",
        "print(pred)"
      ],
      "metadata": {
        "id": "d_mUNIh0aLhY"
      },
      "execution_count": null,
      "outputs": []
    }
  ]
}