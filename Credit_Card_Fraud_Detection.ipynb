{
  "nbformat": 4,
  "nbformat_minor": 0,
  "metadata": {
    "colab": {
      "name": "Credit-Card Fraud Detection.ipynb",
      "provenance": [],
      "collapsed_sections": []
    },
    "kernelspec": {
      "name": "python3",
      "display_name": "Python 3"
    },
    "language_info": {
      "name": "python"
    }
  },
  "cells": [
    {
      "cell_type": "code",
      "execution_count": 32,
      "metadata": {
        "id": "mc8ZX5JehCf5"
      },
      "outputs": [],
      "source": [
        "import numpy as np\n",
        "import pandas as pd \n",
        "import seaborn as sns\n",
        "import matplotlib.pyplot as plt\n",
        "from sklearn.model_selection import train_test_split\n",
        "from sklearn import metrics\n",
        "from sklearn.linear_model import LogisticRegression\n",
        "from sklearn.preprocessing import StandardScaler"
      ]
    },
    {
      "cell_type": "code",
      "source": [
        "cred_data = pd.read_csv('/content/sample_data/creditcard.csv')\n",
        "cred_data.head()"
      ],
      "metadata": {
        "id": "HFJO-IHRiPRD"
      },
      "execution_count": null,
      "outputs": []
    },
    {
      "cell_type": "code",
      "source": [
        "cred_data.info()"
      ],
      "metadata": {
        "id": "dqvv1qz2mPQd"
      },
      "execution_count": null,
      "outputs": []
    },
    {
      "cell_type": "code",
      "source": [
        "cred_data['Class'].value_counts()"
      ],
      "metadata": {
        "colab": {
          "base_uri": "https://localhost:8080/"
        },
        "id": "sGuexBEOmTsA",
        "outputId": "74f4c836-38d3-4f9b-8e27-7571bb344793"
      },
      "execution_count": 4,
      "outputs": [
        {
          "output_type": "execute_result",
          "data": {
            "text/plain": [
              "0    284315\n",
              "1       492\n",
              "Name: Class, dtype: int64"
            ]
          },
          "metadata": {},
          "execution_count": 4
        }
      ]
    },
    {
      "cell_type": "code",
      "source": [
        "cred_data.groupby('Class').mean()"
      ],
      "metadata": {
        "id": "gkfTWu0UndvZ"
      },
      "execution_count": null,
      "outputs": []
    },
    {
      "cell_type": "code",
      "source": [
        "good = cred_data[cred_data.Class==0]\n",
        "fraud = cred_data[cred_data.Class==1]"
      ],
      "metadata": {
        "id": "2O2XhJCHmgbt"
      },
      "execution_count": 12,
      "outputs": []
    },
    {
      "cell_type": "code",
      "source": [
        "print(fraud.shape)\n",
        "print(good.shape)"
      ],
      "metadata": {
        "colab": {
          "base_uri": "https://localhost:8080/"
        },
        "id": "u4hIIiBDoUTN",
        "outputId": "7e65bae2-2edd-4509-d1cf-aebb71d2a03d"
      },
      "execution_count": 18,
      "outputs": [
        {
          "output_type": "stream",
          "name": "stdout",
          "text": [
            "(492, 31)\n",
            "(284315, 31)\n"
          ]
        }
      ]
    },
    {
      "cell_type": "code",
      "source": [
        "good_one = good.sample(n=500)\n",
        "good_one.shape"
      ],
      "metadata": {
        "colab": {
          "base_uri": "https://localhost:8080/"
        },
        "id": "AW74Aro5pCBm",
        "outputId": "b4f51c94-9679-4ed4-e693-4df540529fb9"
      },
      "execution_count": 20,
      "outputs": [
        {
          "output_type": "execute_result",
          "data": {
            "text/plain": [
              "(500, 31)"
            ]
          },
          "metadata": {},
          "execution_count": 20
        }
      ]
    },
    {
      "cell_type": "code",
      "source": [
        "CRED_data = pd.concat([good_one, fraud], axis=0)\n",
        "CRED_data.describe()"
      ],
      "metadata": {
        "id": "gfzX2XyUpTdA"
      },
      "execution_count": null,
      "outputs": []
    },
    {
      "cell_type": "code",
      "source": [
        "CRED_data.groupby('Class').mean()"
      ],
      "metadata": {
        "id": "YAJNOqvgq3tV"
      },
      "execution_count": null,
      "outputs": []
    },
    {
      "cell_type": "code",
      "source": [
        "X = CRED_data.drop('Class',axis=1)\n",
        "Y = CRED_data['Class']"
      ],
      "metadata": {
        "id": "2kaaxvVOqWuE"
      },
      "execution_count": 26,
      "outputs": []
    },
    {
      "cell_type": "code",
      "source": [
        "scaler = StandardScaler()\n",
        "X_new = scaler.fit_transform(X)"
      ],
      "metadata": {
        "id": "ANATGcn3tTsb"
      },
      "execution_count": 33,
      "outputs": []
    },
    {
      "cell_type": "code",
      "source": [
        "x_train,x_test,y_train,y_test = train_test_split(X_new,Y,test_size=0.2,stratify=Y,random_state=2)"
      ],
      "metadata": {
        "id": "xvdP49W9rkV6"
      },
      "execution_count": 34,
      "outputs": []
    },
    {
      "cell_type": "code",
      "source": [
        "model = LogisticRegression()\n",
        "model.fit(x_train,y_train)"
      ],
      "metadata": {
        "colab": {
          "base_uri": "https://localhost:8080/"
        },
        "id": "8ZidNo2Kr9vU",
        "outputId": "b8e8d6f3-ea50-49a6-d3ce-5b7a2df1d330"
      },
      "execution_count": 35,
      "outputs": [
        {
          "output_type": "execute_result",
          "data": {
            "text/plain": [
              "LogisticRegression()"
            ]
          },
          "metadata": {},
          "execution_count": 35
        }
      ]
    },
    {
      "cell_type": "code",
      "source": [
        "ypre = model.predict(x_train)\n",
        "ypre_1 = model.predict(x_test)\n",
        "acc_1 = metrics.accuracy_score(y_train,ypre)\n",
        "acc_2 = metrics.accuracy_score(y_test,ypre_1)\n",
        "print(acc_1, acc_2)"
      ],
      "metadata": {
        "colab": {
          "base_uri": "https://localhost:8080/"
        },
        "id": "StXDseGlshL6",
        "outputId": "855da50d-d56c-470b-e114-21784083a019"
      },
      "execution_count": 36,
      "outputs": [
        {
          "output_type": "stream",
          "name": "stdout",
          "text": [
            "0.9482976040353089 0.9246231155778895\n"
          ]
        }
      ]
    }
  ]
}