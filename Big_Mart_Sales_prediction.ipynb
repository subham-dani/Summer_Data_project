{
  "nbformat": 4,
  "nbformat_minor": 0,
  "metadata": {
    "colab": {
      "name": "Big_Mart_Sales_prediction.ipynb",
      "provenance": [],
      "collapsed_sections": []
    },
    "kernelspec": {
      "name": "python3",
      "display_name": "Python 3"
    },
    "language_info": {
      "name": "python"
    }
  },
  "cells": [
    {
      "cell_type": "code",
      "execution_count": 113,
      "metadata": {
        "id": "b_Tsm-iRmCxv"
      },
      "outputs": [],
      "source": [
        "import pandas as pd\n",
        "import numpy as np\n",
        "import seaborn as sns\n",
        "from sklearn.model_selection import train_test_split\n",
        "from sklearn.preprocessing import LabelEncoder\n",
        "from xgboost import XGBRegressor\n",
        "from sklearn import metrics\n",
        "import matplotlib.pyplot as plt\n"
      ]
    },
    {
      "cell_type": "code",
      "source": [
        "Mart_data = pd.read_csv('/content/sample_data/Mart_Train.csv')\n",
        "Mart_data.head(10)"
      ],
      "metadata": {
        "id": "90k7r67xqekd"
      },
      "execution_count": null,
      "outputs": []
    },
    {
      "cell_type": "code",
      "source": [
        "Mart_data.isnull().sum()"
      ],
      "metadata": {
        "id": "iEHj_3A92JXg"
      },
      "execution_count": null,
      "outputs": []
    },
    {
      "cell_type": "code",
      "source": [
        "Mart_data.info()"
      ],
      "metadata": {
        "id": "OpQWyRiprQtb"
      },
      "execution_count": null,
      "outputs": []
    },
    {
      "cell_type": "markdown",
      "source": [
        "**NON-numerical value**\n",
        "\n",
        "---\n",
        "\n",
        "\n",
        "\n",
        "Item_Identifier\n",
        "\n",
        "Item_Fat_Content\n",
        "\n",
        "Item_Type\n",
        "\n",
        "Outlet_Identifier\n",
        "\n",
        "Outlet_Size  (2410 missing values)\n",
        "\n",
        "Outlet_Location_Type \n",
        "\n",
        "Outlet_Type   "
      ],
      "metadata": {
        "id": "0Cni5ACN3P_s"
      }
    },
    {
      "cell_type": "code",
      "source": [
        "Mart_data['Item_Weight'].fillna(Mart_data['Item_Weight'].mean(),inplace=True)\n",
        "Mart_data.isnull().sum()"
      ],
      "metadata": {
        "id": "kRy9sMrv3DEH"
      },
      "execution_count": null,
      "outputs": []
    },
    {
      "cell_type": "code",
      "source": [
        "mode_of_outlet_size = Mart_data.pivot_table(values='Outlet_Size', columns='Outlet_Type',aggfunc=(lambda x: x.mode()[0]))\n",
        "print(mode_of_outlet_size)\n"
      ],
      "metadata": {
        "id": "ZhQUki239ggL"
      },
      "execution_count": null,
      "outputs": []
    },
    {
      "cell_type": "code",
      "source": [
        "missing = Mart_data['Outlet_Size'].isnull()\n",
        "print(missing)"
      ],
      "metadata": {
        "id": "v-RSHQK0A5L-"
      },
      "execution_count": null,
      "outputs": []
    },
    {
      "cell_type": "code",
      "source": [
        "Mart_data.loc[missing,'Outlet_Size'] = Mart_data.loc[missing,'Outlet_Type'].apply(lambda x: mode_of_outlet_size[x])\n",
        "Mart_data.head(10)"
      ],
      "metadata": {
        "id": "6h5bvCXRBijB"
      },
      "execution_count": null,
      "outputs": []
    },
    {
      "cell_type": "code",
      "source": [
        "sns.set()\n",
        "Mart_data.describe()"
      ],
      "metadata": {
        "id": "jHg5tH7GMX5I"
      },
      "execution_count": null,
      "outputs": []
    },
    {
      "cell_type": "code",
      "source": [
        "sns.distplot(Mart_data['Item_MRP'])\n",
        "plt.figure()\n",
        "sns.distplot(Mart_data['Item_Weight'])\n",
        "plt.figure()\n",
        "sns.distplot(Mart_data['Item_Outlet_Sales'])\n",
        "plt.figure()\n",
        "sns.distplot(Mart_data['Item_Visibility'])\n",
        "plt.show()"
      ],
      "metadata": {
        "id": "E1RYfoD1MaS_"
      },
      "execution_count": null,
      "outputs": []
    },
    {
      "cell_type": "code",
      "source": [
        "plt.figure(figsize=(10,6))\n",
        "sns.countplot(x='Outlet_Type',data=Mart_data)\n",
        "plt.figure()\n",
        "sns.countplot(x='Outlet_Size',data=Mart_data)\n",
        "plt.figure()\n",
        "sns.countplot(x='Item_Fat_Content',data = Mart_data)\n",
        "plt.show()"
      ],
      "metadata": {
        "id": "ahmFjmBVOKb-"
      },
      "execution_count": null,
      "outputs": []
    },
    {
      "cell_type": "code",
      "source": [
        "Mart_data['Item_Fat_Content'].value_counts()"
      ],
      "metadata": {
        "colab": {
          "base_uri": "https://localhost:8080/"
        },
        "id": "j1FnINJdWu8u",
        "outputId": "155bbb6e-d4d0-425d-c6e1-b4bf17a97f4b"
      },
      "execution_count": 153,
      "outputs": [
        {
          "output_type": "execute_result",
          "data": {
            "text/plain": [
              "Low Fat    5089\n",
              "Regular    2889\n",
              "LF          316\n",
              "reg         117\n",
              "low fat     112\n",
              "Name: Item_Fat_Content, dtype: int64"
            ]
          },
          "metadata": {},
          "execution_count": 153
        }
      ]
    },
    {
      "cell_type": "code",
      "source": [
        "Mart_data.replace({'Item_Fat_Content' : {'LF':'Low Fat','low fat':'Low Fat','reg': 'Regular'}},inplace=True)\n",
        "Mart_data['Item_Fat_Content'].value_counts()"
      ],
      "metadata": {
        "colab": {
          "base_uri": "https://localhost:8080/"
        },
        "id": "2n3rXo02W3Br",
        "outputId": "73fcfe05-a43f-41ff-9979-2124437d9605"
      },
      "execution_count": 155,
      "outputs": [
        {
          "output_type": "execute_result",
          "data": {
            "text/plain": [
              "Low Fat    5517\n",
              "Regular    3006\n",
              "Name: Item_Fat_Content, dtype: int64"
            ]
          },
          "metadata": {},
          "execution_count": 155
        }
      ]
    },
    {
      "cell_type": "code",
      "source": [
        "encoder = LabelEncoder()\n",
        "\n",
        "Mart_data['Item_Fat_Content'] = encoder.fit_transform(Mart_data['Item_Fat_Content'])\n",
        "Mart_data['Item_Identifier'] = encoder.fit_transform(Mart_data['Item_Identifier'])\n",
        "Mart_data['Item_Type'] = encoder.fit_transform(Mart_data['Item_Type'])\n",
        "Mart_data['Outlet_Identifier'] = encoder.fit_transform(Mart_data['Outlet_Identifier'])\n",
        "Mart_data['Outlet_Location_Type'] = encoder.fit_transform(Mart_data['Outlet_Location_Type'])\n",
        "Mart_data['Outlet_Type'] = encoder.fit_transform(Mart_data['Outlet_Type'])\n",
        "Mart_data['Outlet_Size'] = encoder.fit_transform(Mart_data['Outlet_Size'])\n",
        "\n",
        "Mart_data.head()\n"
      ],
      "metadata": {
        "id": "KlR8tM1aXXl_"
      },
      "execution_count": null,
      "outputs": []
    },
    {
      "cell_type": "code",
      "source": [
        "X = Mart_data.drop(columns='Item_Outlet_Sales',axis=1)\n",
        "Y = Mart_data['Item_Outlet_Sales']"
      ],
      "metadata": {
        "id": "jquQgU_0Zetd"
      },
      "execution_count": 160,
      "outputs": []
    },
    {
      "cell_type": "code",
      "source": [
        "x_train,x_test,y_train,y_test = train_test_split(X,Y,test_size =0.2, random_state=2)"
      ],
      "metadata": {
        "id": "vZx9Ue6UaVlf"
      },
      "execution_count": 161,
      "outputs": []
    },
    {
      "cell_type": "code",
      "source": [
        "model = XGBRegressor()\n",
        "model.fit(x_train,y_train)"
      ],
      "metadata": {
        "colab": {
          "base_uri": "https://localhost:8080/"
        },
        "id": "6vNjJ1_WatjZ",
        "outputId": "dc39c6b3-a758-4d9d-dde7-4b31611a23a6"
      },
      "execution_count": 162,
      "outputs": [
        {
          "output_type": "stream",
          "name": "stdout",
          "text": [
            "[15:41:00] WARNING: /workspace/src/objective/regression_obj.cu:152: reg:linear is now deprecated in favor of reg:squarederror.\n"
          ]
        },
        {
          "output_type": "execute_result",
          "data": {
            "text/plain": [
              "XGBRegressor()"
            ]
          },
          "metadata": {},
          "execution_count": 162
        }
      ]
    },
    {
      "cell_type": "code",
      "source": [
        "ypre = model.predict(x_train)\n",
        "ypre_1 = model.predict(x_test)\n",
        "R = metrics.r2_score(y_train,ypre)\n",
        "R_1 = metrics.r2_score(y_test,ypre_1)\n",
        "print(R, R_1)"
      ],
      "metadata": {
        "colab": {
          "base_uri": "https://localhost:8080/"
        },
        "id": "kqJh0lESa26C",
        "outputId": "cdef2fa1-d098-4a70-bd71-2650439e84c9"
      },
      "execution_count": 164,
      "outputs": [
        {
          "output_type": "stream",
          "name": "stdout",
          "text": [
            "0.6364457030941357 0.5867640914432671\n"
          ]
        }
      ]
    }
  ]
}