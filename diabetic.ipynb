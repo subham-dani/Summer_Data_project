{
  "nbformat": 4,
  "nbformat_minor": 0,
  "metadata": {
    "colab": {
      "name": "diabetic.ipynb",
      "provenance": [],
      "collapsed_sections": []
    },
    "kernelspec": {
      "name": "python3",
      "display_name": "Python 3"
    },
    "language_info": {
      "name": "python"
    }
  },
  "cells": [
    {
      "cell_type": "code",
      "execution_count": null,
      "metadata": {
        "id": "vpOUiuvm69Bm"
      },
      "outputs": [],
      "source": [
        "import numpy as np\n",
        "from sklearn.metrics import accuracy_score\n",
        "import pandas as pd\n",
        "from sklearn.model_selection import train_test_split\n",
        "from sklearn import svm\n",
        "from sklearn.preprocessing import StandardScaler"
      ]
    },
    {
      "cell_type": "markdown",
      "source": [
        "PIMA Data-set"
      ],
      "metadata": {
        "id": "pHrAMzUzE3lg"
      }
    },
    {
      "cell_type": "code",
      "source": [
        "diabetic_data = pd.read_csv('/content/sample_data/diabetes.csv')\n",
        "diabetic_data.head()"
      ],
      "metadata": {
        "id": "KbPg8kRKCE9p"
      },
      "execution_count": null,
      "outputs": []
    },
    {
      "cell_type": "code",
      "source": [
        "diabetic_data.describe()"
      ],
      "metadata": {
        "id": "c1FMNGLJCq0Z"
      },
      "execution_count": null,
      "outputs": []
    },
    {
      "cell_type": "code",
      "source": [
        "diabetic_data['Outcome'].value_counts()"
      ],
      "metadata": {
        "id": "1U86vu9RDaAA"
      },
      "execution_count": null,
      "outputs": []
    },
    {
      "cell_type": "code",
      "source": [
        "diabetic_data.groupby('Outcome').mean()"
      ],
      "metadata": {
        "id": "ctK-SF0PEJjv"
      },
      "execution_count": null,
      "outputs": []
    },
    {
      "cell_type": "code",
      "source": [
        "x=diabetic_data.drop(columns='Outcome',axis=1)\n",
        "Y=diabetic_data['Outcome']\n",
        "scalar = StandardScaler()\n",
        "X = scalar.fit_transform(x)\n"
      ],
      "metadata": {
        "id": "O9aY7WJqEzEq"
      },
      "execution_count": null,
      "outputs": []
    },
    {
      "cell_type": "code",
      "source": [
        "x_train,x_test,y_train,y_test = train_test_split(X, Y, test_size = 0.2, stratify = Y, random_state = 2)\n"
      ],
      "metadata": {
        "id": "NMddmEUtHvxV"
      },
      "execution_count": null,
      "outputs": []
    },
    {
      "cell_type": "code",
      "source": [
        "model = svm.SVC(kernel='linear')\n",
        "model.fit(x_train,y_train)"
      ],
      "metadata": {
        "id": "GhJsfa7vIjYr"
      },
      "execution_count": null,
      "outputs": []
    },
    {
      "cell_type": "code",
      "source": [
        "y_pred = model.predict(x_train)\n",
        "model_accuracy = accuracy_score(y_train,y_pred)\n",
        "print(model_accuracy)"
      ],
      "metadata": {
        "colab": {
          "base_uri": "https://localhost:8080/"
        },
        "id": "F6SX6k7BJPFT",
        "outputId": "d03de383-da63-43e4-8e12-b7ebd629f69f"
      },
      "execution_count": null,
      "outputs": [
        {
          "output_type": "stream",
          "name": "stdout",
          "text": [
            "0.7866449511400652\n"
          ]
        }
      ]
    },
    {
      "cell_type": "code",
      "source": [
        "y_pro = model.predict(x_test)\n",
        "test_acc = accuracy_score(y_test,y_pro)\n",
        "print(test_acc)\n"
      ],
      "metadata": {
        "colab": {
          "base_uri": "https://localhost:8080/"
        },
        "id": "kFSAw0QNKoWT",
        "outputId": "e742f4e8-e01b-4fe2-c99a-200058b46cf0"
      },
      "execution_count": null,
      "outputs": [
        {
          "output_type": "stream",
          "name": "stdout",
          "text": [
            "0.7727272727272727\n"
          ]
        }
      ]
    },
    {
      "cell_type": "code",
      "source": [
        "input = (4,110,92,0,0,37.6,0.191,30)\n",
        "\n",
        "input_ar = np.array(input)\n",
        "\n",
        "input_re = input_ar.reshape(1,-1)\n",
        "\n",
        "std_input = scalar.transform(input_re)\n",
        "\n",
        "prediction = model.predict(std_input)\n",
        "\n",
        "print(prediction[0])"
      ],
      "metadata": {
        "colab": {
          "base_uri": "https://localhost:8080/"
        },
        "id": "ttjb9avaL-3E",
        "outputId": "dae55537-e43b-445b-cc30-d8bb03f99a00"
      },
      "execution_count": null,
      "outputs": [
        {
          "output_type": "stream",
          "name": "stdout",
          "text": [
            "0\n"
          ]
        },
        {
          "output_type": "stream",
          "name": "stderr",
          "text": [
            "/usr/local/lib/python3.7/dist-packages/sklearn/base.py:451: UserWarning: X does not have valid feature names, but StandardScaler was fitted with feature names\n",
            "  \"X does not have valid feature names, but\"\n"
          ]
        }
      ]
    }
  ]
}